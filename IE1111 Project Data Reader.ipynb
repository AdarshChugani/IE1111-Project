{
 "cells": [
  {
   "cell_type": "markdown",
   "metadata": {},
   "source": [
    "# Welcome to the IE1111 Project!"
   ]
  },
  {
   "cell_type": "code",
   "execution_count": null,
   "metadata": {},
   "outputs": [],
   "source": [
    "import pandas as pd\n",
    "import numpy as nm\n",
    "Students = {}\n",
    "Working_Adults = {}\n",
    "Elderly = {}\n",
    "Equivalence = {'Seldom (< 1 time a week)' : 0.5,\n",
    "'1 - 2 times a week' : 1.5,\n",
    "'3 - 4 times a week' : 3.5,\n",
    "'5 - 6 times a week' : 5.5,\n",
    "'7 times a week' : 7}\n",
    "df = pd.read_csv('IE1111 Kaya Data.csv')\n",
    "df = df[df['S/N'].notnull()]\n",
    "df.columns = df.columns.str.strip()\n",
    "for i in range(120):\n",
    "    if (df['What is the age demographic of the customer?'][i]) == 'Student':\n",
    "        if(df['Per Week, how often do you eat Kaya Toast?'][i]) not in Students:\n",
    "            Students[df['Per Week, how often do you eat Kaya Toast?'][i]] = 1\n",
    "        else:\n",
    "            Students[df['Per Week, how often do you eat Kaya Toast?'][i]] += 1\n",
    "            \n",
    "    elif (df['What is the age demographic of the customer?'][i]) == 'Working Adult':\n",
    "        if(df['Per Week, how often do you eat Kaya Toast?'][i]) not in Working_Adults:\n",
    "            Working_Adults[df['Per Week, how often do you eat Kaya Toast?'][i]] = 1\n",
    "        else:\n",
    "            Working_Adults[df['Per Week, how often do you eat Kaya Toast?'][i]] += 1\n",
    "            \n",
    "    elif (df['What is the age demographic of the customer?'][i]) == 'Elderly':\n",
    "        if(df['Per Week, how often do you eat Kaya Toast?'][i]) not in Elderly:\n",
    "            Elderly[df['Per Week, how often do you eat Kaya Toast?'][i]] = 1\n",
    "        else:\n",
    "            Elderly[df['Per Week, how often do you eat Kaya Toast?'][i]] += 1            \n",
    "\n",
    "\n",
    "def stats(**li):\n",
    "    sume = 0\n",
    "    for items in li:\n",
    "        sume += (Equivalence[items] * li[items])\n",
    "    avg = (sume/sum(li.values()))\n",
    "    sd = 0\n",
    "    for items in li:\n",
    "        sd += (li[items] *(((Equivalence[items]) - avg) ** 2))\n",
    "    sd /= (sum(li.values()))\n",
    "    sd  = sd ** 0.5\n",
    "    sd = round(sd,2)\n",
    "    mode = max(li.values())\n",
    "    for items in li:\n",
    "        if li[items] == mode:\n",
    "            newz = items\n",
    "\n",
    "    \n",
    "    stats = [avg,sd,mode,newz]\n",
    "    return (stats)\n",
    "user_input = input(\"Please enter the Statistics of the age demographic you want to see (Students / Working Adults / Elderly / All)\\n\")\n",
    "print(\"\\n\")\n",
    "\n",
    "if(user_input == \"All\"):\n",
    "    print(\"Showing Data for ALL age demographics: \")\n",
    "    print(\"\\n\")\n",
    "    print(\"Data for Students: \")\n",
    "    for items in Students:\n",
    "        print(items,':',Students[items])\n",
    "    print(\"\\nStatistics for Students: \")\n",
    "    print(\"The Average for the students is\",(stats(**Students))[0])\n",
    "    print(\"The Standard Deviation for the students is\",stats(**Students)[1])\n",
    "    print(\"The most common frequency for Students is\",\"'\"+stats(**Students)[3]+\"'\",\"at\",stats(**Students)[2],\"responses.\")\n",
    "    print(\"\\n\")    \n",
    "\n",
    "    print(\"Data for Working Adults: \")\n",
    "    for items in Working_Adults:\n",
    "        print(items,':',Working_Adults[items])\n",
    "    print(\"\\nStatistics for Working Adults: \")\n",
    "    print(\"The Average for the Working Adults is\",(stats(**Working_Adults))[0])\n",
    "    print(\"The Standard Deviation for the Working Adults is\",stats(**Working_Adults)[1])\n",
    "    print(\"The most common frequency for Working Adults is\",\"'\"+stats(**Working_Adults)[3]+\"'\",\"at\",stats(**Working_Adults)[2],\"responses.\")\n",
    "\n",
    "    print(\"\\n\")\n",
    "\n",
    "    print(\"Data for the Elderly: \")\n",
    "    for items in Elderly:\n",
    "        print(items,':',Elderly[items])\n",
    "    print(\"\\nStatistics for Elderly: \")\n",
    "    print(\"The Average for the elderly is\",(stats(**Elderly))[0])\n",
    "    print(\"The Standard Deviation for the elderly is\",stats(**Elderly)[1])\n",
    "    print(\"The most common frequency for the Elderly is\",\"'\"+stats(**Elderly)[3]+\"'\",\"at\",stats(**Elderly)[2],\"responses.\")\n",
    "\n",
    "elif(user_input == \"Students\"):\n",
    "    print(\"Showing Statistics for STUDENTS: \")\n",
    "    print(\"\\n\")\n",
    "    print(\"Statistics for Students: \")\n",
    "    for items in Students:\n",
    "        print(items,':',Students[items])\n",
    "    print(\"\\nThe Average for the students is\",(stats(**Students))[0])\n",
    "    print(\"The Standard Deviation for the students is\",stats(**Students)[1])\n",
    "    print(\"The most common frequency for Students is\",\"'\"+stats(**Students)[3]+\"'\",\"at\",stats(**Students)[2],\"responses.\")\n",
    "    print(\"\\n\")\n",
    "    \n",
    "elif(user_input == 'Working Adults'):\n",
    "    print(\"Showing Data for WORKING ADULTS: \")\n",
    "    print(\"\\n\")\n",
    "    print(\"Data for Working Adults: \")\n",
    "    for items in Working_Adults:\n",
    "        print(items,':',Working_Adults[items])\n",
    "    print(\"\\nThe Average for the Working Adults is\",(stats(**Working_Adults))[0])\n",
    "    print(\"The Standard Deviation for the Working Adults is\",stats(**Working_Adults)[1])\n",
    "    print(\"The most common frequency for Working Adults is\",\"'\"+stats(**Working_Adults)[3]+\"'\",\"at\",stats(**Working_Adults)[2],\"responses.\")\n",
    "    print(\"\\n\")\n",
    "elif(user_input == 'Elderly'):\n",
    "    print(\"Showing Statistics for ELDERLY: \")\n",
    "    print(\"\\n\")\n",
    "    print(\"Statistics for the Elderly: \")\n",
    "    for items in Elderly:\n",
    "        print(items,':',Elderly[items])\n",
    "    print(\"\\nThe Average for the elderly is\",(stats(**Elderly))[0])\n",
    "    print(\"The Standard Deviation for the elderly is\",stats(**Elderly)[1])\n",
    "    print(\"The most common frequency for the Elderly is\",\"'\"+stats(**Elderly)[3]+\"'\",\"at\",stats(**Elderly)[2],\"responses.\")\n",
    "    print(\"\\n\")\n",
    "else:\n",
    "    print(\"'\"+user_input+\"'\",\"is an invalid input!\")"
   ]
  },
  {
   "cell_type": "markdown",
   "metadata": {},
   "source": [
    "# Data for Students"
   ]
  },
  {
   "cell_type": "code",
   "execution_count": 24,
   "metadata": {},
   "outputs": [
    {
     "data": {
      "text/plain": [
       "{'Seldom (< 1 time a week)': 19,\n",
       " '1 - 2 times a week': 16,\n",
       " '3 - 4 times a week': 3,\n",
       " '7 times a week': 1,\n",
       " '5 - 6 times a week': 1}"
      ]
     },
     "execution_count": 24,
     "metadata": {},
     "output_type": "execute_result"
    }
   ],
   "source": [
    "Students"
   ]
  },
  {
   "cell_type": "code",
   "execution_count": 18,
   "metadata": {},
   "outputs": [
    {
     "name": "stdout",
     "output_type": "stream",
     "text": [
      "Average for students: 1.4125\n",
      "Standard Deviation for students: 1.39\n",
      "Most common frequency for students is: 'Seldom (< 1 time a week)' at 19 occurences.\n"
     ]
    }
   ],
   "source": [
    "print('Average for students:',stats(**Students)[0])\n",
    "print('Standard Deviation for students:',stats(**Students)[1])\n",
    "print(\"Most common frequency for students is: \"+\"'\"+stats(**Students)[3]+\"' at\",stats(**Students)[2],'occurences.')"
   ]
  },
  {
   "cell_type": "markdown",
   "metadata": {},
   "source": [
    "# Data for Working Adults"
   ]
  },
  {
   "cell_type": "code",
   "execution_count": 25,
   "metadata": {},
   "outputs": [
    {
     "data": {
      "text/plain": [
       "{'3 - 4 times a week': 19,\n",
       " '7 times a week': 2,\n",
       " '5 - 6 times a week': 14,\n",
       " '1 - 2 times a week': 3,\n",
       " 'Seldom (< 1 time a week)': 2}"
      ]
     },
     "execution_count": 25,
     "metadata": {},
     "output_type": "execute_result"
    }
   ],
   "source": [
    "Working_Adults"
   ]
  },
  {
   "cell_type": "code",
   "execution_count": 19,
   "metadata": {},
   "outputs": [
    {
     "name": "stdout",
     "output_type": "stream",
     "text": [
      "Average for working adults: 4.075\n",
      "Standard Deviation for working adults: 1.56\n",
      "Most common frequency for working adults is: '3 - 4 times a week'' at 19 occurences.\n"
     ]
    }
   ],
   "source": [
    "print('Average for working adults:',stats(**Working_Adults)[0])\n",
    "print('Standard Deviation for working adults:',stats(**Working_Adults)[1])\n",
    "print('Most common frequency for working adults is: '+\"'\"+stats(**Working_Adults)[3]+\"'\",'at',stats(**Students)[2],'occurences.')"
   ]
  },
  {
   "cell_type": "markdown",
   "metadata": {},
   "source": [
    "# Data for the Elderly"
   ]
  },
  {
   "cell_type": "code",
   "execution_count": 4,
   "metadata": {},
   "outputs": [
    {
     "data": {
      "text/plain": [
       "{'1 - 2 times a week': 3,\n",
       " '3 - 4 times a week': 18,\n",
       " '7 times a week': 4,\n",
       " '5 - 6 times a week': 13,\n",
       " 'Seldom (< 1 time a week)': 2}"
      ]
     },
     "execution_count": 4,
     "metadata": {},
     "output_type": "execute_result"
    }
   ],
   "source": [
    "Elderly"
   ]
  },
  {
   "cell_type": "code",
   "execution_count": 23,
   "metadata": {},
   "outputs": [
    {
     "name": "stdout",
     "output_type": "stream",
     "text": [
      "Average for the elderly: 4.2\n",
      "Standard Deviation for the elderly: 1.67\n",
      "Most common frequency for the elderly is: '3 - 4 times a week' at 18 occurences.\n"
     ]
    }
   ],
   "source": [
    "print('Average for the elderly:',stats(**Elderly)[0])\n",
    "print('Standard Deviation for the elderly:',stats(**Elderly)[1])\n",
    "print('Most common frequency for the elderly is: '+\"'\"+stats(**Elderly)[3]+\"'\",'at',stats(**Elderly)[2],'occurences.')"
   ]
  }
 ],
 "metadata": {
  "kernelspec": {
   "display_name": "Python 3",
   "language": "python",
   "name": "python3"
  },
  "language_info": {
   "codemirror_mode": {
    "name": "ipython",
    "version": 3
   },
   "file_extension": ".py",
   "mimetype": "text/x-python",
   "name": "python",
   "nbconvert_exporter": "python",
   "pygments_lexer": "ipython3",
   "version": "3.6.5"
  }
 },
 "nbformat": 4,
 "nbformat_minor": 2
}
