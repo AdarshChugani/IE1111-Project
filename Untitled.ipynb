{
 "cells": [
  {
   "cell_type": "markdown",
   "metadata": {},
   "source": [
    "# Welcome to the IE1111 Project!"
   ]
  },
  {
   "cell_type": "code",
   "execution_count": 17,
   "metadata": {},
   "outputs": [
    {
     "name": "stdout",
     "output_type": "stream",
     "text": [
      "Please enter the Statistics of the age demographic you want to see (Students / Working Adults / Elderly / All)\n",
      "All\n",
      "\n",
      "\n",
      "Showing Statistics for ALL age demographics: \n",
      "\n",
      "\n",
      "Statistics for Students: \n",
      "Seldom (< 1 time a week) : 19\n",
      "1 - 2 times a week : 16\n",
      "3 - 4 times a week : 3\n",
      "7 times a week : 1\n",
      "5 - 6 times a week : 1\n",
      "\n",
      "\n",
      "Statistics for Working Adults: \n",
      "3 - 4 times a week : 19\n",
      "7 times a week : 2\n",
      "5 - 6 times a week : 14\n",
      "1 - 2 times a week : 3\n",
      "Seldom (< 1 time a week) : 2\n",
      "\n",
      "\n",
      "Statistics for the ELderly: \n",
      "1 - 2 times a week : 3\n",
      "3 - 4 times a week : 18\n",
      "7 times a week : 4\n",
      "5 - 6 times a week : 13\n",
      "Seldom (< 1 time a week) : 2\n"
     ]
    }
   ],
   "source": [
    "import pandas as pd\n",
    "import numpy as nm\n",
    "Students = {}\n",
    "Working_Adults = {}\n",
    "Elderly = {}\n",
    "Equivalence = {'Seldom (< 1 time a week)' : 0.5,\n",
    "'1 - 2 times a week' : 1.5,\n",
    "'3 - 4 times a week' : 3.5,\n",
    "'5 - 6 times a week' : 5.5,\n",
    "'7 times a week' : 7}\n",
    "df = pd.read_csv('IE1111 Kaya Data.csv')\n",
    "df = df[df['S/N'].notnull()]\n",
    "df.columns = df.columns.str.strip()\n",
    "for i in range(120):\n",
    "    if (df['What is the age demographic of the customer?'][i]) == 'Student':\n",
    "        if(df['Per Week, how often do you eat Kaya Toast?'][i]) not in Students:\n",
    "            Students[df['Per Week, how often do you eat Kaya Toast?'][i]] = 1\n",
    "        else:\n",
    "            Students[df['Per Week, how often do you eat Kaya Toast?'][i]] += 1\n",
    "            \n",
    "    elif (df['What is the age demographic of the customer?'][i]) == 'Working Adult':\n",
    "        if(df['Per Week, how often do you eat Kaya Toast?'][i]) not in Working_Adults:\n",
    "            Working_Adults[df['Per Week, how often do you eat Kaya Toast?'][i]] = 1\n",
    "        else:\n",
    "            Working_Adults[df['Per Week, how often do you eat Kaya Toast?'][i]] += 1\n",
    "            \n",
    "    elif (df['What is the age demographic of the customer?'][i]) == 'Elderly':\n",
    "        if(df['Per Week, how often do you eat Kaya Toast?'][i]) not in Elderly:\n",
    "            Elderly[df['Per Week, how often do you eat Kaya Toast?'][i]] = 1\n",
    "        else:\n",
    "            Elderly[df['Per Week, how often do you eat Kaya Toast?'][i]] += 1            \n",
    "\n",
    "user_input = input(\"Please enter the Statistics of the age demographic you want to see (Students / Working Adults / Elderly / All)\\n\")\n",
    "print(\"\\n\")\n",
    "if(user_input == \"All\"):\n",
    "    print(\"Showing Statistics for ALL age demographics: \")\n",
    "    print(\"\\n\")\n",
    "    print(\"Statistics for Students: \")\n",
    "    for items in Students:\n",
    "        print(items,':',Students[items])\n",
    "    print(\"\\n\")    \n",
    "\n",
    "    print(\"Statistics for Working Adults: \")\n",
    "    for items in Working_Adults:\n",
    "        print(items,':',Working_Adults[items])\n",
    "    print(\"\\n\")\n",
    "\n",
    "    print(\"Statistics for the Elderly: \")\n",
    "    for items in Elderly:\n",
    "        print(items,':',Elderly[items])\n",
    "elif(user_input == \"Students\"):\n",
    "    print(\"Showing Statistics for STUDENTS: \")\n",
    "    print(\"\\n\")\n",
    "    print(\"Statistics for Students: \")\n",
    "    for items in Students:\n",
    "        print(items,':',Students[items])\n",
    "    print(\"\\n\")\n",
    "    \n",
    "elif(user_input == 'Working Adults'):\n",
    "    print(\"Showing Statistics for WORKING ADULTS: \")\n",
    "    print(\"\\n\")\n",
    "    print(\"Statistics for Working Adults: \")\n",
    "    for items in Working_Adults:\n",
    "        print(items,':',Working_Adults[items])\n",
    "    print(\"\\n\")\n",
    "elif(user_input == 'Elderly'):\n",
    "    print(\"Showing Statistics for ELDERLY: \")\n",
    "    print(\"\\n\")\n",
    "    print(\"Statistics for the Elderly: \")\n",
    "    for items in Elderly:\n",
    "        print(items,':',Elderly[items])\n",
    "    print(\"\\n\")\n",
    "else:\n",
    "    print(\"'\"+user_input+\"'\",\"is an invalid input!\")"
   ]
  },
  {
   "cell_type": "code",
   "execution_count": 7,
   "metadata": {},
   "outputs": [
    {
     "data": {
      "text/plain": [
       "{'Seldom (< 1 time a week)': 19,\n",
       " '1 - 2 times a week': 16,\n",
       " '3 - 4 times a week': 3,\n",
       " '7 times a week': 1,\n",
       " '5 - 6 times a week': 1}"
      ]
     },
     "execution_count": 7,
     "metadata": {},
     "output_type": "execute_result"
    }
   ],
   "source": [
    "Students"
   ]
  },
  {
   "cell_type": "code",
   "execution_count": 10,
   "metadata": {},
   "outputs": [
    {
     "data": {
      "text/plain": [
       "{'1 - 2 times a week': 3,\n",
       " '3 - 4 times a week': 18,\n",
       " '7 times a week': 4,\n",
       " '5 - 6 times a week': 13,\n",
       " 'Seldom (< 1 time a week)': 2}"
      ]
     },
     "execution_count": 10,
     "metadata": {},
     "output_type": "execute_result"
    }
   ],
   "source": [
    "Elderly"
   ]
  },
  {
   "cell_type": "code",
   "execution_count": 15,
   "metadata": {},
   "outputs": [
    {
     "data": {
      "text/plain": [
       "{'3 - 4 times a week': 19,\n",
       " '7 times a week': 2,\n",
       " '5 - 6 times a week': 14,\n",
       " '1 - 2 times a week': 3,\n",
       " 'Seldom (< 1 time a week)': 2}"
      ]
     },
     "execution_count": 15,
     "metadata": {},
     "output_type": "execute_result"
    }
   ],
   "source": [
    "Working_Adults"
   ]
  },
  {
   "cell_type": "code",
   "execution_count": 16,
   "metadata": {},
   "outputs": [
    {
     "ename": "NameError",
     "evalue": "name 'All' is not defined",
     "output_type": "error",
     "traceback": [
      "\u001b[1;31m---------------------------------------------------------------------------\u001b[0m",
      "\u001b[1;31mNameError\u001b[0m                                 Traceback (most recent call last)",
      "\u001b[1;32m<ipython-input-16-69599fabdbd6>\u001b[0m in \u001b[0;36m<module>\u001b[1;34m()\u001b[0m\n\u001b[1;32m----> 1\u001b[1;33m \u001b[0mAll\u001b[0m\u001b[1;33m\u001b[0m\u001b[0m\n\u001b[0m",
      "\u001b[1;31mNameError\u001b[0m: name 'All' is not defined"
     ]
    }
   ],
   "source": []
  },
  {
   "cell_type": "code",
   "execution_count": null,
   "metadata": {},
   "outputs": [],
   "source": []
  }
 ],
 "metadata": {
  "kernelspec": {
   "display_name": "Python 3",
   "language": "python",
   "name": "python3"
  },
  "language_info": {
   "codemirror_mode": {
    "name": "ipython",
    "version": 3
   },
   "file_extension": ".py",
   "mimetype": "text/x-python",
   "name": "python",
   "nbconvert_exporter": "python",
   "pygments_lexer": "ipython3",
   "version": "3.6.5"
  }
 },
 "nbformat": 4,
 "nbformat_minor": 2
}
